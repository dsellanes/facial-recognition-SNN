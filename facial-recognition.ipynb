{
 "cells": [
  {
   "cell_type": "code",
   "execution_count": 1,
   "id": "a77471fa-c025-406d-af64-e276a2ced1df",
   "metadata": {},
   "outputs": [
    {
     "name": "stdout",
     "output_type": "stream",
     "text": [
      "Requirement already satisfied: tensorflow==2.5.0 in c:\\users\\diego\\appdata\\local\\programs\\python\\python39\\lib\\site-packages (2.5.0)\n",
      "Requirement already satisfied: tensorflow-gpu==2.5.0 in c:\\users\\diego\\appdata\\local\\programs\\python\\python39\\lib\\site-packages (2.5.0)\n",
      "Requirement already satisfied: opencv-python in c:\\users\\diego\\appdata\\local\\programs\\python\\python39\\lib\\site-packages (4.5.5.62)\n",
      "Requirement already satisfied: matplotlib in c:\\users\\diego\\appdata\\local\\programs\\python\\python39\\lib\\site-packages (3.4.3)\n",
      "Requirement already satisfied: flatbuffers~=1.12.0 in c:\\users\\diego\\appdata\\local\\programs\\python\\python39\\lib\\site-packages (from tensorflow==2.5.0) (1.12)\n",
      "Requirement already satisfied: keras-preprocessing~=1.1.2 in c:\\users\\diego\\appdata\\local\\programs\\python\\python39\\lib\\site-packages (from tensorflow==2.5.0) (1.1.2)\n",
      "Requirement already satisfied: h5py~=3.1.0 in c:\\users\\diego\\appdata\\local\\programs\\python\\python39\\lib\\site-packages (from tensorflow==2.5.0) (3.1.0)\n",
      "Requirement already satisfied: typing-extensions~=3.7.4 in c:\\users\\diego\\appdata\\local\\programs\\python\\python39\\lib\\site-packages (from tensorflow==2.5.0) (3.7.4.3)\n",
      "Requirement already satisfied: six~=1.15.0 in c:\\users\\diego\\appdata\\local\\programs\\python\\python39\\lib\\site-packages (from tensorflow==2.5.0) (1.15.0)\n",
      "Requirement already satisfied: wrapt~=1.12.1 in c:\\users\\diego\\appdata\\local\\programs\\python\\python39\\lib\\site-packages (from tensorflow==2.5.0) (1.12.1)\n",
      "Requirement already satisfied: astunparse~=1.6.3 in c:\\users\\diego\\appdata\\local\\programs\\python\\python39\\lib\\site-packages (from tensorflow==2.5.0) (1.6.3)\n",
      "Requirement already satisfied: google-pasta~=0.2 in c:\\users\\diego\\appdata\\local\\programs\\python\\python39\\lib\\site-packages (from tensorflow==2.5.0) (0.2.0)\n",
      "Requirement already satisfied: keras-nightly~=2.5.0.dev in c:\\users\\diego\\appdata\\local\\programs\\python\\python39\\lib\\site-packages (from tensorflow==2.5.0) (2.5.0.dev2021032900)\n",
      "Requirement already satisfied: numpy~=1.19.2 in c:\\users\\diego\\appdata\\local\\programs\\python\\python39\\lib\\site-packages (from tensorflow==2.5.0) (1.19.5)\n",
      "Requirement already satisfied: opt-einsum~=3.3.0 in c:\\users\\diego\\appdata\\local\\programs\\python\\python39\\lib\\site-packages (from tensorflow==2.5.0) (3.3.0)\n",
      "Requirement already satisfied: tensorboard~=2.5 in c:\\users\\diego\\appdata\\local\\programs\\python\\python39\\lib\\site-packages (from tensorflow==2.5.0) (2.7.0)\n",
      "Requirement already satisfied: gast==0.4.0 in c:\\users\\diego\\appdata\\local\\programs\\python\\python39\\lib\\site-packages (from tensorflow==2.5.0) (0.4.0)\n",
      "Requirement already satisfied: wheel~=0.35 in c:\\users\\diego\\appdata\\local\\programs\\python\\python39\\lib\\site-packages (from tensorflow==2.5.0) (0.37.1)\n",
      "Requirement already satisfied: termcolor~=1.1.0 in c:\\users\\diego\\appdata\\local\\programs\\python\\python39\\lib\\site-packages (from tensorflow==2.5.0) (1.1.0)\n",
      "Requirement already satisfied: protobuf>=3.9.2 in c:\\users\\diego\\appdata\\local\\programs\\python\\python39\\lib\\site-packages (from tensorflow==2.5.0) (3.19.3)\n",
      "Requirement already satisfied: tensorflow-estimator<2.6.0,>=2.5.0rc0 in c:\\users\\diego\\appdata\\local\\programs\\python\\python39\\lib\\site-packages (from tensorflow==2.5.0) (2.5.0)\n",
      "Requirement already satisfied: absl-py~=0.10 in c:\\users\\diego\\appdata\\local\\programs\\python\\python39\\lib\\site-packages (from tensorflow==2.5.0) (0.15.0)\n",
      "Requirement already satisfied: grpcio~=1.34.0 in c:\\users\\diego\\appdata\\local\\programs\\python\\python39\\lib\\site-packages (from tensorflow==2.5.0) (1.34.1)\n",
      "Requirement already satisfied: pyparsing>=2.2.1 in c:\\users\\diego\\appdata\\local\\programs\\python\\python39\\lib\\site-packages (from matplotlib) (2.4.7)\n",
      "Requirement already satisfied: cycler>=0.10 in c:\\users\\diego\\appdata\\local\\programs\\python\\python39\\lib\\site-packages (from matplotlib) (0.10.0)\n",
      "Requirement already satisfied: pillow>=6.2.0 in c:\\users\\diego\\appdata\\local\\programs\\python\\python39\\lib\\site-packages (from matplotlib) (8.3.1)\n",
      "Requirement already satisfied: python-dateutil>=2.7 in c:\\users\\diego\\appdata\\local\\programs\\python\\python39\\lib\\site-packages (from matplotlib) (2.8.2)\n",
      "Requirement already satisfied: kiwisolver>=1.0.1 in c:\\users\\diego\\appdata\\local\\programs\\python\\python39\\lib\\site-packages (from matplotlib) (1.3.1)\n",
      "Requirement already satisfied: setuptools>=41.0.0 in c:\\users\\diego\\appdata\\local\\programs\\python\\python39\\lib\\site-packages (from tensorboard~=2.5->tensorflow==2.5.0) (56.0.0)\n",
      "Requirement already satisfied: markdown>=2.6.8 in c:\\users\\diego\\appdata\\local\\programs\\python\\python39\\lib\\site-packages (from tensorboard~=2.5->tensorflow==2.5.0) (3.3.6)\n",
      "Requirement already satisfied: tensorboard-plugin-wit>=1.6.0 in c:\\users\\diego\\appdata\\local\\programs\\python\\python39\\lib\\site-packages (from tensorboard~=2.5->tensorflow==2.5.0) (1.8.1)\n",
      "Requirement already satisfied: google-auth-oauthlib<0.5,>=0.4.1 in c:\\users\\diego\\appdata\\local\\programs\\python\\python39\\lib\\site-packages (from tensorboard~=2.5->tensorflow==2.5.0) (0.4.6)\n",
      "Requirement already satisfied: requests<3,>=2.21.0 in c:\\users\\diego\\appdata\\local\\programs\\python\\python39\\lib\\site-packages (from tensorboard~=2.5->tensorflow==2.5.0) (2.26.0)\n",
      "Requirement already satisfied: google-auth<3,>=1.6.3 in c:\\users\\diego\\appdata\\local\\programs\\python\\python39\\lib\\site-packages (from tensorboard~=2.5->tensorflow==2.5.0) (2.3.3)\n",
      "Requirement already satisfied: werkzeug>=0.11.15 in c:\\users\\diego\\appdata\\local\\programs\\python\\python39\\lib\\site-packages (from tensorboard~=2.5->tensorflow==2.5.0) (2.0.2)\n",
      "Requirement already satisfied: tensorboard-data-server<0.7.0,>=0.6.0 in c:\\users\\diego\\appdata\\local\\programs\\python\\python39\\lib\\site-packages (from tensorboard~=2.5->tensorflow==2.5.0) (0.6.1)\n",
      "Requirement already satisfied: pyasn1-modules>=0.2.1 in c:\\users\\diego\\appdata\\local\\programs\\python\\python39\\lib\\site-packages (from google-auth<3,>=1.6.3->tensorboard~=2.5->tensorflow==2.5.0) (0.2.8)\n",
      "Requirement already satisfied: cachetools<5.0,>=2.0.0 in c:\\users\\diego\\appdata\\local\\programs\\python\\python39\\lib\\site-packages (from google-auth<3,>=1.6.3->tensorboard~=2.5->tensorflow==2.5.0) (4.2.4)\n",
      "Requirement already satisfied: rsa<5,>=3.1.4 in c:\\users\\diego\\appdata\\local\\programs\\python\\python39\\lib\\site-packages (from google-auth<3,>=1.6.3->tensorboard~=2.5->tensorflow==2.5.0) (4.8)\n",
      "Requirement already satisfied: requests-oauthlib>=0.7.0 in c:\\users\\diego\\appdata\\local\\programs\\python\\python39\\lib\\site-packages (from google-auth-oauthlib<0.5,>=0.4.1->tensorboard~=2.5->tensorflow==2.5.0) (1.3.0)\n",
      "Requirement already satisfied: importlib-metadata>=4.4 in c:\\users\\diego\\appdata\\local\\programs\\python\\python39\\lib\\site-packages (from markdown>=2.6.8->tensorboard~=2.5->tensorflow==2.5.0) (4.10.1)\n",
      "Requirement already satisfied: charset-normalizer~=2.0.0 in c:\\users\\diego\\appdata\\local\\programs\\python\\python39\\lib\\site-packages (from requests<3,>=2.21.0->tensorboard~=2.5->tensorflow==2.5.0) (2.0.7)\n",
      "Requirement already satisfied: urllib3<1.27,>=1.21.1 in c:\\users\\diego\\appdata\\local\\programs\\python\\python39\\lib\\site-packages (from requests<3,>=2.21.0->tensorboard~=2.5->tensorflow==2.5.0) (1.26.7)\n",
      "Requirement already satisfied: idna<4,>=2.5 in c:\\users\\diego\\appdata\\local\\programs\\python\\python39\\lib\\site-packages (from requests<3,>=2.21.0->tensorboard~=2.5->tensorflow==2.5.0) (3.3)\n",
      "Requirement already satisfied: certifi>=2017.4.17 in c:\\users\\diego\\appdata\\local\\programs\\python\\python39\\lib\\site-packages (from requests<3,>=2.21.0->tensorboard~=2.5->tensorflow==2.5.0) (2021.10.8)\n",
      "Requirement already satisfied: zipp>=0.5 in c:\\users\\diego\\appdata\\local\\programs\\python\\python39\\lib\\site-packages (from importlib-metadata>=4.4->markdown>=2.6.8->tensorboard~=2.5->tensorflow==2.5.0) (3.7.0)\n",
      "Requirement already satisfied: pyasn1<0.5.0,>=0.4.6 in c:\\users\\diego\\appdata\\local\\programs\\python\\python39\\lib\\site-packages (from pyasn1-modules>=0.2.1->google-auth<3,>=1.6.3->tensorboard~=2.5->tensorflow==2.5.0) (0.4.8)\n",
      "Requirement already satisfied: oauthlib>=3.0.0 in c:\\users\\diego\\appdata\\local\\programs\\python\\python39\\lib\\site-packages (from requests-oauthlib>=0.7.0->google-auth-oauthlib<0.5,>=0.4.1->tensorboard~=2.5->tensorflow==2.5.0) (3.1.1)\n"
     ]
    }
   ],
   "source": [
    "!pip install tensorflow==2.5.0 tensorflow-gpu==2.5.0 opencv-python matplotlib"
   ]
  },
  {
   "cell_type": "code",
   "execution_count": 2,
   "id": "7420b8fe-5022-43ea-b367-0298fa6f3578",
   "metadata": {},
   "outputs": [
    {
     "name": "stdout",
     "output_type": "stream",
     "text": [
      "Requirement already satisfied: pip in c:\\users\\diego\\appdata\\local\\programs\\python\\python39\\lib\\site-packages (21.3.1)\n"
     ]
    }
   ],
   "source": [
    "!c:\\users\\diego\\appdata\\local\\programs\\python\\python39\\python.exe -m pip install --upgrade pip"
   ]
  },
  {
   "cell_type": "code",
   "execution_count": 3,
   "id": "50346508-0899-4420-a5a1-7a66b0decd2f",
   "metadata": {},
   "outputs": [],
   "source": [
    "# Import dependencies \n",
    "import cv2 \n",
    "import os \n",
    "import random \n",
    "import numpy as np \n",
    "from matplotlib import pyplot as plt"
   ]
  },
  {
   "cell_type": "code",
   "execution_count": 4,
   "id": "f0b2d5c6-86ae-4989-b308-4772290d4cd5",
   "metadata": {},
   "outputs": [],
   "source": [
    "# Import tf depen - functional API\n",
    "from tensorflow.keras.models import Model\n",
    "from tensorflow.keras.layers import Layer, Conv2D, Dense, MaxPooling2D, Input, Flatten \n",
    "import tensorflow as tf"
   ]
  },
  {
   "cell_type": "code",
   "execution_count": 16,
   "id": "37aa4ab9-944b-4b18-a1bd-7a35cb69f344",
   "metadata": {},
   "outputs": [
    {
     "name": "stdout",
     "output_type": "stream",
     "text": [
      "[]\n"
     ]
    }
   ],
   "source": [
    "# Set GPU Growth \n",
    "# Avoid OOM errors by seting GPU Memory Consumption Growth \n",
    "gpus = tf.config.experimental.list_physical_devices('GPU')\n",
    "print(gpus)"
   ]
  },
  {
   "cell_type": "code",
   "execution_count": 19,
   "id": "c0d9907a-4a06-469b-a4d7-b9329a7120bc",
   "metadata": {},
   "outputs": [],
   "source": [
    "# Setup paths \n",
    "POS_PATH = os.path.join('data', 'positive')\n",
    "NEG_PATH = os.path.join('data', 'negative')\n",
    "ANC_PATH = os.path.join('data', 'anchor')\n",
    "\n",
    "# Create folders \n",
    "os.makedirs(POS_PATH)\n",
    "os.makedirs(NEG_PATH)\n",
    "os.makedirs(ANC_PATH)"
   ]
  },
  {
   "cell_type": "code",
   "execution_count": 24,
   "id": "d5854418-d1d2-44a2-ab85-a9423419f6ee",
   "metadata": {},
   "outputs": [],
   "source": [
    "# Decompress dataset \n",
    "# !tar -xf lfw.tgz\n",
    "\n",
    "# Move images to following repository data/negative \n",
    "for directory in os.listdir('lfw'): \n",
    "    for file in os.listdir(os.path.join('lfw', directory)): \n",
    "        EX_PATH = os.path.join('lfw', directory, file)\n",
    "        NEW_PATH = os.path.join(NEG_PATH, file)\n",
    "        os.replace(EX_PATH, NEW_PATH)"
   ]
  },
  {
   "cell_type": "code",
   "execution_count": 62,
   "id": "c719780b-ca72-46cc-ac90-8277bc3841c8",
   "metadata": {},
   "outputs": [],
   "source": [
    "# Import uuid lib to generate unique image names \n",
    "import uuid "
   ]
  },
  {
   "cell_type": "code",
   "execution_count": 71,
   "id": "21cda886-4197-4217-ab08-a5d485d2ee97",
   "metadata": {},
   "outputs": [],
   "source": [
    "# Establish collection with to the webcam \n",
    "cap = cv2.VideoCapture(0, cv2.CAP_DSHOW) \n",
    "\n",
    "while cap.isOpened():\n",
    "    # take frame\n",
    "    ret, frame = cap.read()\n",
    "    \n",
    "    #resize frames \n",
    "    frame = frame[120:120+250, 200:200+250, :]\n",
    "    \n",
    "    # print frame \n",
    "    cv2.imshow('Image Collection', frame )\n",
    "    \n",
    "    # a key collect anchor \n",
    "    if cv2.waitKey(1) & 0XFF == ord('a'):\n",
    "        \n",
    "        imgname = os.path.join(ANC_PATH, f'{uuid.uuid1()}.jpg')\n",
    "        cv2.imwrite(imgname, frame)\n",
    "    # p key collect positives \n",
    "    if cv2.waitKey(1) & 0XFF == ord('p'):\n",
    "        imgname = os.path.join(POS_PATH, f'{uuid.uuid1()}.jpg')\n",
    "        cv2.imwrite(imgname, frame)\n",
    "    # q key closes everything \n",
    "    if cv2.waitKey(1) & 0XFF == ord('q'):\n",
    "        break\n",
    "        \n",
    "# destroy windows         \n",
    "cap.release()\n",
    "cv2.destroyAllWindows()"
   ]
  },
  {
   "cell_type": "code",
   "execution_count": 72,
   "id": "b3d19912-71b6-45b1-b9a1-0cf668183291",
   "metadata": {},
   "outputs": [],
   "source": [
    "# Pre proccessing pipeline \n",
    "anchor = tf.data.Dataset.list_files(ANC_PATH + '\\*.jpg').take(300)\n",
    "positive = tf.data.Dataset.list_files(POS_PATH + '\\*.jpg').take(300)\n",
    "negative = tf.data.Dataset.list_files(NEG_PATH + '\\*.jpg').take(300)"
   ]
  },
  {
   "cell_type": "code",
   "execution_count": 75,
   "id": "64959257-6dea-4726-82ec-d7cd91a94d39",
   "metadata": {},
   "outputs": [],
   "source": [
    "# preproccesing function \n",
    "def preprocess(file_path): \n",
    "    # read image for filepath \n",
    "    byte_img = tf.io.read_file(file_path)\n",
    "    # load in image \n",
    "    img = tf.io.decode_jpeg(byte_img)\n",
    "    # PREPROCESS : resize 100x100x3 - scale image btw 0 and 1  \n",
    "    img = tf.image.resize(img, (100,100))\n",
    "    img = img / 255 \n",
    "    return img "
   ]
  },
  {
   "cell_type": "code",
   "execution_count": 89,
   "id": "e8ce135b-0565-43d9-850f-be114d7bb235",
   "metadata": {},
   "outputs": [],
   "source": [
    "# Create labelled dataset \n",
    "positives = tf.data.Dataset.zip((anchor, positive, tf.data.Dataset.from_tensor_slices(tf.ones(len(anchor)))))\n",
    "negatives = tf.data.Dataset.zip((anchor, negative, tf.data.Dataset.from_tensor_slices(tf.zeros(len(anchor)))))\n",
    "data = positives.concatenate(negatives)"
   ]
  },
  {
   "cell_type": "code",
   "execution_count": null,
   "id": "fd7fcd6d-ca7c-4913-88d3-9cd98a8fdb35",
   "metadata": {},
   "outputs": [],
   "source": [
    "samples = data.as_numpy_iterator()"
   ]
  },
  {
   "cell_type": "code",
   "execution_count": 422,
   "id": "9979a966-147e-4ac4-ac2d-19307982276f",
   "metadata": {},
   "outputs": [],
   "source": [
    "ex = samples.next()"
   ]
  },
  {
   "cell_type": "code",
   "execution_count": 424,
   "id": "5bdfed1f-0525-4232-b440-7a43f65b2104",
   "metadata": {},
   "outputs": [],
   "source": [
    "def preprocess_twin(input_img, validation_img, label):\n",
    "    return (preprocess(input_img), preprocess(validation_img), label)"
   ]
  },
  {
   "cell_type": "code",
   "execution_count": 431,
   "id": "cf754d60-0898-4040-8d7e-ca0f2319e1fd",
   "metadata": {},
   "outputs": [],
   "source": [
    "# Build dataloader pipeline \n",
    "data = data.map(preprocess_twin)\n",
    "data = data.cache()\n",
    "data = data.shuffle(buffer_size = 1024)"
   ]
  },
  {
   "cell_type": "code",
   "execution_count": 433,
   "id": "3a0694bd-3b3b-4e37-aea0-5e4217cdc172",
   "metadata": {},
   "outputs": [],
   "source": [
    "# Training partition \n",
    "train_data = data.take(round(len(data)*.7))\n",
    "train_data = train_data.batch(16)\n",
    "train_data = train_data.prefetch(8)\n",
    "\n",
    "# Testing partition \n",
    "test_data = data.skip(round(len(data)*.7))\n",
    "test_data = test_data.take(round(len(data)*.3))\n",
    "test_data = test_data.batch(16)\n",
    "test_data = test_data.prefetch(8)"
   ]
  },
  {
   "cell_type": "code",
   "execution_count": null,
   "id": "1fd937b2-0bd7-4769-995a-55d5b21cbe80",
   "metadata": {},
   "outputs": [],
   "source": []
  }
 ],
 "metadata": {
  "kernelspec": {
   "display_name": "Python 3 (ipykernel)",
   "language": "python",
   "name": "python3"
  },
  "language_info": {
   "codemirror_mode": {
    "name": "ipython",
    "version": 3
   },
   "file_extension": ".py",
   "mimetype": "text/x-python",
   "name": "python",
   "nbconvert_exporter": "python",
   "pygments_lexer": "ipython3",
   "version": "3.9.6"
  }
 },
 "nbformat": 4,
 "nbformat_minor": 5
}
